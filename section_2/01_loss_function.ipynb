{
  "nbformat": 4,
  "nbformat_minor": 0,
  "metadata": {
    "colab": {
      "name": "01_loss_function.ipynb",
      "provenance": [],
      "collapsed_sections": [],
      "authorship_tag": "ABX9TyMIYT9rdjhB4hMZqkxisxKo",
      "include_colab_link": true
    },
    "kernelspec": {
      "name": "python3",
      "display_name": "Python 3"
    },
    "language_info": {
      "name": "python"
    }
  },
  "cells": [
    {
      "cell_type": "markdown",
      "metadata": {
        "id": "view-in-github",
        "colab_type": "text"
      },
      "source": [
        "<a href=\"https://colab.research.google.com/github/yukinaga/image_generation/blob/main/section_2/01_loss_function.ipynb\" target=\"_parent\"><img src=\"https://colab.research.google.com/assets/colab-badge.svg\" alt=\"Open In Colab\"/></a>"
      ]
    },
    {
      "cell_type": "markdown",
      "metadata": {
        "id": "t1HGlYzi4u7a"
      },
      "source": [
        "# 損失関数\n",
        "損失関数をグラフとして描画し、特性を把握します。  \n",
        "今回は、二乗和誤差のグラフと二値の交差エントロピー誤差のグラフを描画します。"
      ]
    },
    {
      "cell_type": "markdown",
      "metadata": {
        "id": "fOqhfIac2eK3"
      },
      "source": [
        "## 二乗和誤差\n",
        "\n",
        "二乗和誤差は以下の式で表されます。  \n",
        "\n",
        "$$ E = \\frac{1}{2} \\sum_{k=1}^n(y_k-t_k)^2 $$\n",
        "\n",
        "$y_k$は出力、$t_k$は正解、$n$は出力層のニューロン数を表します。  \n",
        "\n",
        "ここで、総和を取る前の個々の二乗誤差をグラフに描画します。 \n",
        "\n",
        "$$E_k = \\frac{1}{2}(y_k-t_k)^2$$\n",
        "\n",
        "以下のコードにより、`y`の値が0.25、0.5、0.75のとき、`t`の値とともに二乗誤差がどう変化するのかを確認します。  \n",
        "\n",
        "\n",
        "\n"
      ]
    },
    {
      "cell_type": "code",
      "metadata": {
        "id": "aEQhZssn94cy"
      },
      "source": [
        "import numpy as np\n",
        "import matplotlib.pyplot as plt\n",
        "\n",
        "def square_error(y, t):\n",
        "    return (y - t)**2/2  # 二乗誤差\n",
        "\n",
        "t = np.linspace(0, 1)\n",
        "ys = [0.25, 0.5, 0.75]\n",
        "for y in ys:\n",
        "    plt.plot(t, square_error(y, t), label=\"y=\"+str(y))\n",
        "    \n",
        "plt.legend()\n",
        "plt.xlabel(\"t\")\n",
        "plt.ylabel(\"Error\")\n",
        "plt.show()"
      ],
      "execution_count": null,
      "outputs": []
    },
    {
      "cell_type": "markdown",
      "metadata": {
        "id": "ZSujlDCbOUJ8"
      },
      "source": [
        "二乗誤差の場合、最小値の両側でなだらかに誤差が立ち上がることが確認できます。  "
      ]
    },
    {
      "cell_type": "markdown",
      "metadata": {
        "id": "tOFGD7YqCdbe"
      },
      "source": [
        "## 二値の交差エントロピー誤差\n",
        "\n",
        "二値の交差エントロピー誤差は、以下の式で表されます。\n",
        "\n",
        "$$E = -y\\log t-(1-y)log(1-t)$$\n",
        "\n",
        "この場合$E$は$y$と$t$の値の隔たりの大きさを表しますが、$y$が$t$と等しいときに最小値をとります。   \n",
        "\n",
        "二値の交差エントロピー誤差を以下のコードで描画します。  \n",
        "`y`の値が0.25、0.5、0.75のとき、`t`の値とともに二値の交差エントロピー誤差がどう変化するのかを確認します。  "
      ]
    },
    {
      "cell_type": "code",
      "metadata": {
        "id": "y1qH17nmOUlF"
      },
      "source": [
        "import numpy as np\n",
        "import matplotlib.pyplot as plt\n",
        "\n",
        "def binary_crossentropy(y, t):\n",
        "    return -y*np.log(t) - (1-y)*np.log(1-t)  # 二値の交差エントロピー\n",
        "\n",
        "t = np.linspace(0.01, 0.99)\n",
        "ys = [0.25, 0.5, 0.75]\n",
        "for y in ys:\n",
        "    plt.plot(t, binary_crossentropy(y, t), label=\"y=\"+str(y))\n",
        "\n",
        "plt.legend()\n",
        "plt.xlabel(\"t\")\n",
        "plt.ylabel(\"Error\")\n",
        "plt.show()"
      ],
      "execution_count": null,
      "outputs": []
    },
    {
      "cell_type": "markdown",
      "metadata": {
        "id": "HC76qQ8cOU1U"
      },
      "source": [
        "最小値付近は誤差がなだらかに変化しますが、0と1の付近で誤差は急激に立ち上がります。  \n",
        "$y$と$t$に大きな隔たりが生じたとき誤差が急激に増大するので、誤差を小さくしようとする働きもが大きくなります。  \n",
        "二値の交差エントロピーが適用可能なのは、$y$と$t$の範囲が0から1の範囲の場合に限られます。  \n",
        "しかしながら、二乗誤差と比較して誤差の変化の緩急差が大きいため、誤差を収束させやすくなっています。  \n",
        "VAEで誤差を定義する際には、この二値の交差エントロピーが部分的に使われます。  "
      ]
    }
  ]
}
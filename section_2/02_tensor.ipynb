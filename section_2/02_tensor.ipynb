{
  "nbformat": 4,
  "nbformat_minor": 0,
  "metadata": {
    "colab": {
      "name": "02_tensor.ipynb",
      "provenance": [],
      "collapsed_sections": [],
      "authorship_tag": "ABX9TyP/NL6GJWto2xkXRCAwrOAV",
      "include_colab_link": true
    },
    "kernelspec": {
      "name": "python3",
      "display_name": "Python 3"
    }
  },
  "cells": [
    {
      "cell_type": "markdown",
      "metadata": {
        "id": "view-in-github",
        "colab_type": "text"
      },
      "source": [
        "<a href=\"https://colab.research.google.com/github/yukinaga/image_generation/blob/main/section_2/02_tensor.ipynb\" target=\"_parent\"><img src=\"https://colab.research.google.com/assets/colab-badge.svg\" alt=\"Open In Colab\"/></a>"
      ]
    },
    {
      "cell_type": "markdown",
      "metadata": {
        "id": "qBeK8bWc4a_9"
      },
      "source": [
        "# Tensor\n",
        "TensorはPyTorchにおいて最も基本となるデータ構造です。  \n",
        "今回は、Tensorを生成したり、Tensor同士の計算をしたりするコードを練習します。"
      ]
    },
    {
      "cell_type": "markdown",
      "metadata": {
        "id": "EMC135bx6E3u"
      },
      "source": [
        "## Tensorの生成\n",
        "torchのtensor関数によりTensorを生成します。  \n",
        "以下のセルではPythonのリストからTensorを生成します。  \n",
        "また、type( )により型を確認します。  "
      ]
    },
    {
      "cell_type": "code",
      "metadata": {
        "id": "xCg7mgXPqBc8",
        "colab": {
          "base_uri": "https://localhost:8080/"
        },
        "outputId": "8b229e0f-5af8-4b91-e870-ef7e1e5fc123"
      },
      "source": [
        "import torch\n",
        "\n",
        "a = torch.tensor([1,2,3])\n",
        "print(a, type(a))"
      ],
      "execution_count": 1,
      "outputs": [
        {
          "output_type": "stream",
          "text": [
            "tensor([1, 2, 3]) <class 'torch.Tensor'>\n"
          ],
          "name": "stdout"
        }
      ]
    },
    {
      "cell_type": "markdown",
      "metadata": {
        "id": "6LcfIq4nWfG2"
      },
      "source": [
        "他にも、様々な方法でTensorを生成することができます。"
      ]
    },
    {
      "cell_type": "code",
      "metadata": {
        "id": "3X2TN2rYtCTO",
        "colab": {
          "base_uri": "https://localhost:8080/"
        },
        "outputId": "648d0f89-8c54-4ebc-b782-d0a376267a07"
      },
      "source": [
        "# 2重のリストから生成\n",
        "b = torch.tensor([[1, 2],\n",
        "                  [3, 4]])\n",
        "print(b)\n",
        "\n",
        "# dypeを指定し、倍精度のTensorにする\n",
        "c = torch.tensor([[1, 2],\n",
        "                  [3, 4]], dtype=torch.float64)\n",
        "print(c)\n",
        "\n",
        "# 0から9までの数値で初期化\n",
        "d = torch.arange(0, 10)\n",
        "print(d)\n",
        "\n",
        "# すべての値が0の、2×3のTensor\n",
        "e = torch.zeros(2, 3)\n",
        "print(e)\n",
        "\n",
        "# すべての値が乱数の、2×3のTensor\n",
        "f = torch.rand(2, 3)\n",
        "print(f)\n",
        "\n",
        "# Tensorの形状はsizeメソッドで取得\n",
        "print(f.size())"
      ],
      "execution_count": 2,
      "outputs": [
        {
          "output_type": "stream",
          "text": [
            "tensor([[1, 2],\n",
            "        [3, 4]])\n",
            "tensor([[1., 2.],\n",
            "        [3., 4.]], dtype=torch.float64)\n",
            "tensor([0, 1, 2, 3, 4, 5, 6, 7, 8, 9])\n",
            "tensor([[0., 0., 0.],\n",
            "        [0., 0., 0.]])\n",
            "tensor([[0.8891, 0.7611, 0.2630],\n",
            "        [0.2065, 0.5270, 0.8960]])\n",
            "torch.Size([2, 3])\n"
          ],
          "name": "stdout"
        }
      ]
    },
    {
      "cell_type": "markdown",
      "metadata": {
        "id": "b-TrDK5qewJp"
      },
      "source": [
        "## TensorとNumPyの配列の変換\n",
        "numpy()メソッドでTensorをNumPyの配列に変換することができます。  \n",
        "また、from_numpy( )関数でNumPyの配列をTensorに変換することができます。"
      ]
    },
    {
      "cell_type": "code",
      "metadata": {
        "id": "VdQc9-L5gBFZ",
        "colab": {
          "base_uri": "https://localhost:8080/"
        },
        "outputId": "dc8017ae-8780-40b7-af64-8a383cd6fcb1"
      },
      "source": [
        "# Tensor → NumPy\n",
        "a = torch.tensor([[1, 2],\n",
        "                  [3, 4.]])\n",
        "b = a.numpy()\n",
        "print(b)\n",
        "\n",
        "# NumPy → Tensor\n",
        "c = torch.from_numpy(b)\n",
        "print(c)"
      ],
      "execution_count": 3,
      "outputs": [
        {
          "output_type": "stream",
          "text": [
            "[[1. 2.]\n",
            " [3. 4.]]\n",
            "tensor([[1., 2.],\n",
            "        [3., 4.]])\n"
          ],
          "name": "stdout"
        }
      ]
    },
    {
      "cell_type": "markdown",
      "metadata": {
        "id": "CgpWSmhXnas_"
      },
      "source": [
        "## 範囲を指定してアクセス\n",
        "様々な方法で、Tensorの要素に範囲を指定してアクセスすることができます。"
      ]
    },
    {
      "cell_type": "code",
      "metadata": {
        "id": "MgWk6RXMoX_l",
        "colab": {
          "base_uri": "https://localhost:8080/"
        },
        "outputId": "2ca03a5e-43de-4e92-a343-882cce117ca0"
      },
      "source": [
        "a = torch.tensor([[1, 2, 3],\n",
        "                  [4, 5, 6]])\n",
        "\n",
        "# 2つのインデックスを指定\n",
        "print(a[0, 1])\n",
        "\n",
        "# 範囲を指定\n",
        "print(a[1:2, :2])\n",
        "\n",
        "# リストで複数のインデックスを指定\n",
        "print(a[:, [0, 2]])\n",
        "\n",
        "# 3より大きい要素のみを指定\n",
        "print(a[a>3])\n",
        "\n",
        "# 要素の変更\n",
        "a[0, 2] = 11\n",
        "print(a)\n",
        "\n",
        "# 要素の一括変更\n",
        "a[:, 1] = 22\n",
        "print(a)\n",
        "\n",
        "# 10より大きい要素のみ変更\n",
        "a[a>10] = 33\n",
        "print(a)"
      ],
      "execution_count": 4,
      "outputs": [
        {
          "output_type": "stream",
          "text": [
            "tensor(2)\n",
            "tensor([[4, 5]])\n",
            "tensor([[1, 3],\n",
            "        [4, 6]])\n",
            "tensor([4, 5, 6])\n",
            "tensor([[ 1,  2, 11],\n",
            "        [ 4,  5,  6]])\n",
            "tensor([[ 1, 22, 11],\n",
            "        [ 4, 22,  6]])\n",
            "tensor([[ 1, 33, 33],\n",
            "        [ 4, 33,  6]])\n"
          ],
          "name": "stdout"
        }
      ]
    },
    {
      "cell_type": "markdown",
      "metadata": {
        "id": "2HQMM_Fh02of"
      },
      "source": [
        "## Tensorの演算\n",
        "Tensorによりベクトルや行列を表現することができます。  \n",
        "これらの演算は、一定のルールに基づき行われます。  "
      ]
    },
    {
      "cell_type": "code",
      "metadata": {
        "id": "AQ5IsU0Fz-DJ",
        "colab": {
          "base_uri": "https://localhost:8080/"
        },
        "outputId": "b9a54421-7d34-4490-c6f4-cf23e322889c"
      },
      "source": [
        "# ベクトル\n",
        "a = torch.tensor([1, 2, 3]) \n",
        "b = torch.tensor([4, 5, 6])\n",
        "\n",
        "# 行列\n",
        "c = torch.tensor([[6, 5, 4],\n",
        "                  [3, 2, 1]])\n",
        "\n",
        "# ベクトルとスカラーの演算\n",
        "print(a + 3)\n",
        "\n",
        "# ベクトル同士の演算\n",
        "print(a + b) \n",
        "\n",
        "# 行列とスカラーの演算\n",
        "print(c + 2)\n",
        "\n",
        "# 行列とベクトルの演算（ブロードキャスト）\n",
        "print(c + a)\n",
        "\n",
        "# 行列同士の演算\n",
        "print(c + c)"
      ],
      "execution_count": 5,
      "outputs": [
        {
          "output_type": "stream",
          "text": [
            "tensor([4, 5, 6])\n",
            "tensor([5, 7, 9])\n",
            "tensor([[8, 7, 6],\n",
            "        [5, 4, 3]])\n",
            "tensor([[7, 7, 7],\n",
            "        [4, 4, 4]])\n",
            "tensor([[12, 10,  8],\n",
            "        [ 6,  4,  2]])\n"
          ],
          "name": "stdout"
        }
      ]
    },
    {
      "cell_type": "markdown",
      "metadata": {
        "id": "r0S-nN_c8MKr"
      },
      "source": [
        "## 様々な値の計算\n",
        "平均値、合計値、最大値、最小値など様々な値を計算する関数とメソッドが用意されています。\n"
      ]
    },
    {
      "cell_type": "code",
      "metadata": {
        "id": "X_LIWIwI59rI",
        "colab": {
          "base_uri": "https://localhost:8080/"
        },
        "outputId": "90a9613a-15b2-4a38-e8df-eaf2e7ef49db"
      },
      "source": [
        "a = torch.tensor([[1, 2, 3],\n",
        "                  [4, 5, 6.]])\n",
        "\n",
        "# 平均値を求める関数\n",
        "m = torch.mean(a)\n",
        "print(m.item())  # item()で値を取り出す\n",
        "\n",
        "# 平均値を求めるメソッド\n",
        "m = a.mean()\n",
        "print(m.item())\n",
        "\n",
        "# 列ごとの平均値\n",
        "print(a.mean(0))\n",
        "\n",
        "# 合計値\n",
        "print(torch.sum(a).item())\n",
        "\n",
        "# 最大値\n",
        "print(torch.max(a).item())\n",
        "\n",
        "# 最小値\n",
        "print(torch.min(a).item())"
      ],
      "execution_count": 6,
      "outputs": [
        {
          "output_type": "stream",
          "text": [
            "3.5\n",
            "3.5\n",
            "tensor([2.5000, 3.5000, 4.5000])\n",
            "21.0\n",
            "6.0\n",
            "1.0\n"
          ],
          "name": "stdout"
        }
      ]
    }
  ]
}